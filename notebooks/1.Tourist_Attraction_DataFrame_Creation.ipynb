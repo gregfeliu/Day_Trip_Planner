{
 "cells": [
  {
   "cell_type": "markdown",
   "metadata": {},
   "source": [
    "import pandas as pd\n",
    "# ^^^ pyforest auto-imports - don't write above this line\n",
    "# Tourist Attraction DataFrame Creation Notebook"
   ]
  },
  {
   "cell_type": "code",
   "execution_count": 11,
   "metadata": {
    "ExecuteTime": {
     "end_time": "2021-01-15T22:39:22.584300Z",
     "start_time": "2021-01-15T22:39:22.580055Z"
    }
   },
   "outputs": [],
   "source": [
    "from haversine import haversine, Unit\n",
    "import copy\n",
    "import re\n",
    "import folium\n",
    "import pickle"
   ]
  },
  {
   "cell_type": "markdown",
   "metadata": {},
   "source": [
    "# Making Top NYC Attractions Data\n",
    "https://www.planetware.com/tourist-attractions-/new-york-city-us-ny-nyc.htm"
   ]
  },
  {
   "cell_type": "code",
   "execution_count": 15,
   "metadata": {
    "ExecuteTime": {
     "end_time": "2021-01-15T22:40:28.150717Z",
     "start_time": "2021-01-15T22:40:28.141805Z"
    }
   },
   "outputs": [],
   "source": [
    "# using planteware's list for top attractions \n",
    "locations = [\"Statue of Liberty\", \"Central Park\", \"Rockefeller Center & Top of the Rock Observation Deck\", \n",
    "            \"Metropolitan Museum of Art\", \"Broadway and the Theater District\", \"Empire State Building\",\n",
    "            \"9/11 Memorial and Museum\", \"High Line\", \"Times Square\", \"Brooklyn Bridge\",\n",
    "            \"Fifth Avenue\", \"Grand Central Terminal\", \"One World Observatory\", \"The Frick Collection\",\n",
    "            \"New York Public Library\", \"Wall Street\", \"Radio City Music Hall\", \"St. Patrick's Cathedral\",\n",
    "            \"Carnegie Hall\", \"Bryant Park\"]\n",
    "# using google's coordinates for each location \n",
    "coords = [[40.689249, -74.044479], [40.782629, -73.965290], [40.759137, -73.979495], \n",
    "         [40.779437, -73.963244], [40.759003, -73.984487], [40.748481, -73.985654],\n",
    "         [40.711532, -74.013201], [40.747797, -74.004872], [40.758070, -73.985407], \n",
    "         [40.706086, -73.996864], [40.774431, -73.965618], [40.752708, -73.977247], [40.713353, -74.013325],\n",
    "         [40.771217, -73.967345], [40.752895, -73.981757], [40.706044, -74.008836], [40.760106, -73.979934],\n",
    "         [40.758571, -73.976195], [40.765101, -73.979941], [40.753751, -73.983662]]"
   ]
  },
  {
   "cell_type": "code",
   "execution_count": 3,
   "metadata": {
    "ExecuteTime": {
     "end_time": "2021-01-15T20:49:26.700516Z",
     "start_time": "2021-01-15T20:49:26.689188Z"
    }
   },
   "outputs": [
    {
     "data": {
      "application/javascript": [
       "\n",
       "        if (window._pyforest_update_imports_cell) { window._pyforest_update_imports_cell('import pandas as pd'); }\n",
       "    "
      ],
      "text/plain": [
       "<IPython.core.display.Javascript object>"
      ]
     },
     "metadata": {},
     "output_type": "display_data"
    },
    {
     "data": {
      "text/plain": [
       "(20, 3)"
      ]
     },
     "execution_count": 3,
     "metadata": {},
     "output_type": "execute_result"
    }
   ],
   "source": [
    "nyc_attractions = pd.DataFrame(index = locations, data=coords, columns = ['Latitude', \"Longitude\"])\n",
    "nyc_attractions.reset_index(inplace=True)\n",
    "nyc_attractions.shape"
   ]
  },
  {
   "cell_type": "code",
   "execution_count": 4,
   "metadata": {
    "ExecuteTime": {
     "end_time": "2021-01-15T20:49:26.715056Z",
     "start_time": "2021-01-15T20:49:26.704316Z"
    }
   },
   "outputs": [
    {
     "data": {
      "text/html": [
       "<div>\n",
       "<style scoped>\n",
       "    .dataframe tbody tr th:only-of-type {\n",
       "        vertical-align: middle;\n",
       "    }\n",
       "\n",
       "    .dataframe tbody tr th {\n",
       "        vertical-align: top;\n",
       "    }\n",
       "\n",
       "    .dataframe thead th {\n",
       "        text-align: right;\n",
       "    }\n",
       "</style>\n",
       "<table border=\"1\" class=\"dataframe\">\n",
       "  <thead>\n",
       "    <tr style=\"text-align: right;\">\n",
       "      <th></th>\n",
       "      <th>index</th>\n",
       "      <th>Latitude</th>\n",
       "      <th>Longitude</th>\n",
       "    </tr>\n",
       "  </thead>\n",
       "  <tbody>\n",
       "    <tr>\n",
       "      <th>0</th>\n",
       "      <td>Statue of Liberty</td>\n",
       "      <td>40.689249</td>\n",
       "      <td>-74.044479</td>\n",
       "    </tr>\n",
       "    <tr>\n",
       "      <th>1</th>\n",
       "      <td>Central Park</td>\n",
       "      <td>40.782629</td>\n",
       "      <td>-73.965290</td>\n",
       "    </tr>\n",
       "    <tr>\n",
       "      <th>2</th>\n",
       "      <td>Rockefeller Center &amp; Top of the Rock Observati...</td>\n",
       "      <td>40.759137</td>\n",
       "      <td>-73.979495</td>\n",
       "    </tr>\n",
       "    <tr>\n",
       "      <th>3</th>\n",
       "      <td>Metropolitan Museum of Art</td>\n",
       "      <td>40.779437</td>\n",
       "      <td>-73.963244</td>\n",
       "    </tr>\n",
       "    <tr>\n",
       "      <th>4</th>\n",
       "      <td>Broadway and the Theater District</td>\n",
       "      <td>40.759003</td>\n",
       "      <td>-73.984487</td>\n",
       "    </tr>\n",
       "  </tbody>\n",
       "</table>\n",
       "</div>"
      ],
      "text/plain": [
       "                                               index   Latitude  Longitude\n",
       "0                                  Statue of Liberty  40.689249 -74.044479\n",
       "1                                       Central Park  40.782629 -73.965290\n",
       "2  Rockefeller Center & Top of the Rock Observati...  40.759137 -73.979495\n",
       "3                         Metropolitan Museum of Art  40.779437 -73.963244\n",
       "4                  Broadway and the Theater District  40.759003 -73.984487"
      ]
     },
     "execution_count": 4,
     "metadata": {},
     "output_type": "execute_result"
    }
   ],
   "source": [
    "nyc_attractions.head()"
   ]
  },
  {
   "cell_type": "code",
   "execution_count": 7,
   "metadata": {
    "ExecuteTime": {
     "end_time": "2021-01-15T21:45:12.616988Z",
     "start_time": "2021-01-15T21:45:12.608544Z"
    }
   },
   "outputs": [],
   "source": [
    "nyc_attractions.columns = ['Site', 'Latitude', \"Longitude\"]\n",
    "nyc_attractions['Coordinates'] = list(zip(nyc_attractions['Latitude'], nyc_attractions['Longitude']))"
   ]
  },
  {
   "cell_type": "code",
   "execution_count": 10,
   "metadata": {
    "ExecuteTime": {
     "end_time": "2021-01-15T22:36:13.306523Z",
     "start_time": "2021-01-15T22:36:13.300532Z"
    }
   },
   "outputs": [
    {
     "data": {
      "text/plain": [
       "pandas.core.series.Series"
      ]
     },
     "execution_count": 10,
     "metadata": {},
     "output_type": "execute_result"
    }
   ],
   "source": [
    "type(nyc_attractions['Coordinates'])"
   ]
  },
  {
   "cell_type": "markdown",
   "metadata": {},
   "source": [
    "## Saving all of the data"
   ]
  },
  {
   "cell_type": "code",
   "execution_count": 8,
   "metadata": {
    "ExecuteTime": {
     "end_time": "2021-01-15T21:45:13.901831Z",
     "start_time": "2021-01-15T21:45:13.891639Z"
    }
   },
   "outputs": [],
   "source": [
    "nyc_attractions.to_csv('./data/nyc_attractions')"
   ]
  },
  {
   "cell_type": "code",
   "execution_count": 17,
   "metadata": {
    "ExecuteTime": {
     "end_time": "2021-01-15T22:40:49.954227Z",
     "start_time": "2021-01-15T22:40:49.947191Z"
    }
   },
   "outputs": [],
   "source": [
    "with open('coords', 'wb+') as f:\n",
    "    pickle.dump(coords, f)"
   ]
  }
 ],
 "metadata": {
  "kernelspec": {
   "display_name": "Python [conda env:learn-env] *",
   "language": "python",
   "name": "conda-env-learn-env-py"
  },
  "language_info": {
   "codemirror_mode": {
    "name": "ipython",
    "version": 3
   },
   "file_extension": ".py",
   "mimetype": "text/x-python",
   "name": "python",
   "nbconvert_exporter": "python",
   "pygments_lexer": "ipython3",
   "version": "3.6.9"
  },
  "toc": {
   "base_numbering": 1,
   "nav_menu": {},
   "number_sections": true,
   "sideBar": true,
   "skip_h1_title": false,
   "title_cell": "Table of Contents",
   "title_sidebar": "Contents",
   "toc_cell": false,
   "toc_position": {},
   "toc_section_display": true,
   "toc_window_display": true
  },
  "varInspector": {
   "cols": {
    "lenName": 16,
    "lenType": 16,
    "lenVar": 40
   },
   "kernels_config": {
    "python": {
     "delete_cmd_postfix": "",
     "delete_cmd_prefix": "del ",
     "library": "var_list.py",
     "varRefreshCmd": "print(var_dic_list())"
    },
    "r": {
     "delete_cmd_postfix": ") ",
     "delete_cmd_prefix": "rm(",
     "library": "var_list.r",
     "varRefreshCmd": "cat(var_dic_list()) "
    }
   },
   "types_to_exclude": [
    "module",
    "function",
    "builtin_function_or_method",
    "instance",
    "_Feature"
   ],
   "window_display": false
  }
 },
 "nbformat": 4,
 "nbformat_minor": 2
}
