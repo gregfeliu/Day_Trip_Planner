{
 "cells": [
  {
   "cell_type": "markdown",
   "metadata": {},
   "source": [
    "import pandas as pd\n",
    "# ^^^ pyforest auto-imports - don't write above this line\n",
    "# Imports"
   ]
  },
  {
   "cell_type": "code",
   "execution_count": 196,
   "metadata": {},
   "outputs": [],
   "source": [
    "from haversine import haversine, Unit\n",
    "import copy\n",
    "import re\n",
    "import folium"
   ]
  },
  {
   "cell_type": "markdown",
   "metadata": {},
   "source": [
    "# Making Top NYC Attractions Data\n",
    "https://www.planetware.com/tourist-attractions-/new-york-city-us-ny-nyc.htm"
   ]
  },
  {
   "cell_type": "code",
   "execution_count": 113,
   "metadata": {},
   "outputs": [],
   "source": [
    "# using planteware's list for top attractions \n",
    "locations = [\"Statue of Liberty\", \"Central Park\", \"Rockefeller Center & Top of the Rock Observation Deck\", \n",
    "            \"Metropolitan Museum of Art\", \"Broadway and the Theater District\", \"Empire State Building\",\n",
    "            \"9/11 Memorial and Museum\", \"High Line\", \"Times Square\", \"Brooklyn Bridge\",\n",
    "            \"Fifth Avenue\", \"Grand Central Terminal\", \"One World Observatory\", \"The Frick Collection\",\n",
    "            \"New York Public Library\", \"Wall Street\", \"Radio City Music Hall\", \"St. Patrick's Cathedral\",\n",
    "            \"Carnegie Hall\", \"Bryant Park\"]\n",
    "# using google's coordinates for each location \n",
    "coords = [[40.689249, -74.044479], [40.782629, -73.965290], [40.759137, -73.979495], \n",
    "         [40.779437, -73.963244], [40.759003, -73.984487], [40.748481, -73.985654],\n",
    "         [40.711532, -74.013201], [40.747797, -74.004872], [40.758070, -73.985407], \n",
    "         [40.706086, -73.996864], [40.774431, -73.965618], [40.752708, -73.977247], [40.713353, -74.013325],\n",
    "         [40.771217, -73.967345], [40.752895, -73.981757], [40.706044, -74.008836], [40.760106, -73.979934],\n",
    "         [40.758571, -73.976195], [40.765101, -73.979941], [40.753751, -73.983662]]"
   ]
  },
  {
   "cell_type": "code",
   "execution_count": 114,
   "metadata": {},
   "outputs": [
    {
     "data": {
      "application/javascript": [
       "\n",
       "        if (window._pyforest_update_imports_cell) { window._pyforest_update_imports_cell('import pandas as pd'); }\n",
       "    "
      ],
      "text/plain": [
       "<IPython.core.display.Javascript object>"
      ]
     },
     "metadata": {},
     "output_type": "display_data"
    }
   ],
   "source": [
    "nyc_attractions = pd.DataFrame(index = locations, data=coords, columns = ['Latitude', \"Longitude\"])"
   ]
  },
  {
   "cell_type": "code",
   "execution_count": 115,
   "metadata": {},
   "outputs": [
    {
     "data": {
      "text/plain": [
       "(20, 2)"
      ]
     },
     "execution_count": 115,
     "metadata": {},
     "output_type": "execute_result"
    }
   ],
   "source": [
    "nyc_attractions.shape"
   ]
  },
  {
   "cell_type": "code",
   "execution_count": 116,
   "metadata": {},
   "outputs": [],
   "source": [
    "nyc_attractions.reset_index(inplace=True)"
   ]
  },
  {
   "cell_type": "code",
   "execution_count": 117,
   "metadata": {},
   "outputs": [
    {
     "data": {
      "text/html": [
       "<div>\n",
       "<style scoped>\n",
       "    .dataframe tbody tr th:only-of-type {\n",
       "        vertical-align: middle;\n",
       "    }\n",
       "\n",
       "    .dataframe tbody tr th {\n",
       "        vertical-align: top;\n",
       "    }\n",
       "\n",
       "    .dataframe thead th {\n",
       "        text-align: right;\n",
       "    }\n",
       "</style>\n",
       "<table border=\"1\" class=\"dataframe\">\n",
       "  <thead>\n",
       "    <tr style=\"text-align: right;\">\n",
       "      <th></th>\n",
       "      <th>index</th>\n",
       "      <th>Latitude</th>\n",
       "      <th>Longitude</th>\n",
       "    </tr>\n",
       "  </thead>\n",
       "  <tbody>\n",
       "    <tr>\n",
       "      <th>0</th>\n",
       "      <td>Statue of Liberty</td>\n",
       "      <td>40.689249</td>\n",
       "      <td>-74.044479</td>\n",
       "    </tr>\n",
       "    <tr>\n",
       "      <th>1</th>\n",
       "      <td>Central Park</td>\n",
       "      <td>40.782629</td>\n",
       "      <td>-73.965290</td>\n",
       "    </tr>\n",
       "    <tr>\n",
       "      <th>2</th>\n",
       "      <td>Rockefeller Center &amp; Top of the Rock Observati...</td>\n",
       "      <td>40.759137</td>\n",
       "      <td>-73.979495</td>\n",
       "    </tr>\n",
       "    <tr>\n",
       "      <th>3</th>\n",
       "      <td>Metropolitan Museum of Art</td>\n",
       "      <td>40.779437</td>\n",
       "      <td>-73.963244</td>\n",
       "    </tr>\n",
       "    <tr>\n",
       "      <th>4</th>\n",
       "      <td>Broadway and the Theater District</td>\n",
       "      <td>40.759003</td>\n",
       "      <td>-73.984487</td>\n",
       "    </tr>\n",
       "  </tbody>\n",
       "</table>\n",
       "</div>"
      ],
      "text/plain": [
       "                                               index   Latitude  Longitude\n",
       "0                                  Statue of Liberty  40.689249 -74.044479\n",
       "1                                       Central Park  40.782629 -73.965290\n",
       "2  Rockefeller Center & Top of the Rock Observati...  40.759137 -73.979495\n",
       "3                         Metropolitan Museum of Art  40.779437 -73.963244\n",
       "4                  Broadway and the Theater District  40.759003 -73.984487"
      ]
     },
     "execution_count": 117,
     "metadata": {},
     "output_type": "execute_result"
    }
   ],
   "source": [
    "nyc_attractions.head()"
   ]
  },
  {
   "cell_type": "code",
   "execution_count": 120,
   "metadata": {},
   "outputs": [],
   "source": [
    "nyc_attractions.columns = ['Site', 'Latitude', 'Longitude']"
   ]
  },
  {
   "cell_type": "markdown",
   "metadata": {},
   "source": [
    "# Making Grid of Distances"
   ]
  },
  {
   "cell_type": "code",
   "execution_count": 37,
   "metadata": {},
   "outputs": [],
   "source": [
    "# adding hotel\n",
    "coords.insert(0, [40.764712, -73.974485])"
   ]
  },
  {
   "cell_type": "code",
   "execution_count": 38,
   "metadata": {},
   "outputs": [],
   "source": [
    "def get_distance(coords):\n",
    "    # must return a matrix of integers, will need scaling \n",
    "    distance_matrix = []\n",
    "    # adding depot (the plaza hotel) to first place \n",
    "    plaza_hotel = [40.764712, -73.974485]\n",
    "    if plaza_hotel not in coords:\n",
    "        coords.insert(0, plaza_hotel)\n",
    "    for i in range(len(coords)):\n",
    "        one_row_list = []\n",
    "        for num in range(i, len(coords)):\n",
    "            distance = haversine(coords[i], coords[num], unit=Unit.MILES)\n",
    "            rounded_upscaled_distance = round((distance * 1000)) # scaled to 1000th of a mile\n",
    "            one_row_list.append(rounded_upscaled_distance)\n",
    "        distance_matrix.append(one_row_list) # top right triangle of matrix \n",
    "     # making each sublist have 20 items\n",
    "    for i in range(len(distance_matrix)):\n",
    "        for x in range(i, len(distance_matrix)):\n",
    "            if distance_matrix[i][x] != 0:\n",
    "                distance_matrix[x].insert(i, distance_matrix[i][x])\n",
    "    return distance_matrix"
   ]
  },
  {
   "cell_type": "code",
   "execution_count": 39,
   "metadata": {},
   "outputs": [],
   "source": [
    "dist_matrix = get_distance(coords)"
   ]
  },
  {
   "cell_type": "code",
   "execution_count": 42,
   "metadata": {},
   "outputs": [
    {
     "data": {
      "text/plain": [
       "21"
      ]
     },
     "execution_count": 42,
     "metadata": {},
     "output_type": "execute_result"
    }
   ],
   "source": [
    "len(dist_matrix)"
   ]
  },
  {
   "cell_type": "markdown",
   "metadata": {},
   "source": [
    "# Insert into OR-tools (TSP)\n",
    "original py file: https://github.com/google/or-tools/blob/stable/ortools/constraint_solver/samples/tsp_cities.py"
   ]
  },
  {
   "cell_type": "code",
   "execution_count": 45,
   "metadata": {},
   "outputs": [
    {
     "name": "stdout",
     "output_type": "stream",
     "text": [
      "Objective: 17.05 miles\n",
      "Route for vehicle 0:\n",
      " 0 -> 18 -> 12 -> 15 -> 20 -> 6 -> 10 -> 16 -> 1 -> 7 -> 13 -> 8 -> 9 -> 5 -> 3 -> 17 -> 19 -> 2 -> 4 -> 11 -> 14 -> 0\n",
      "\n"
     ]
    }
   ],
   "source": [
    "# [START import]\n",
    "from __future__ import print_function\n",
    "from ortools.constraint_solver import routing_enums_pb2\n",
    "from ortools.constraint_solver import pywrapcp\n",
    "\n",
    "# [END import]\n",
    "\n",
    "\n",
    "# [START data_model]\n",
    "def create_data_model(input_distance_matrix):\n",
    "    \"\"\"Stores the data for the problem.\"\"\"\n",
    "    data = {}\n",
    "#     data['distance_matrix'] = [\n",
    "#         [0, 2451, 713, 1018, 1631, 1374, 2408, 213, 2571, 875, 1420, 2145, 1972],\n",
    "#         [2451, 0, 1745, 1524, 831, 1240, 959, 2596, 403, 1589, 1374, 357, 579],\n",
    "#         [713, 1745, 0, 355, 920, 803, 1737, 851, 1858, 262, 940, 1453, 1260],\n",
    "#         [1018, 1524, 355, 0, 700, 862, 1395, 1123, 1584, 466, 1056, 1280, 987],\n",
    "#         [1631, 831, 920, 700, 0, 663, 1021, 1769, 949, 796, 879, 586, 371],\n",
    "#         [1374, 1240, 803, 862, 663, 0, 1681, 1551, 1765, 547, 225, 887, 999],\n",
    "#         [2408, 959, 1737, 1395, 1021, 1681, 0, 2493, 678, 1724, 1891, 1114, 701],\n",
    "#         [213, 2596, 851, 1123, 1769, 1551, 2493, 0, 2699, 1038, 1605, 2300, 2099],\n",
    "#         [2571, 403, 1858, 1584, 949, 1765, 678, 2699, 0, 1744, 1645, 653, 600],\n",
    "#         [875, 1589, 262, 466, 796, 547, 1724, 1038, 1744, 0, 679, 1272, 1162],\n",
    "#         [1420, 1374, 940, 1056, 879, 225, 1891, 1605, 1645, 679, 0, 1017, 1200],\n",
    "#         [2145, 357, 1453, 1280, 586, 887, 1114, 2300, 653, 1272, 1017, 0, 504],\n",
    "#         [1972, 579, 1260, 987, 371, 999, 701, 2099, 600, 1162, 1200, 504, 0],\n",
    "#     ]  # yapf: disable\n",
    "    data['distance_matrix'] = input_distance_matrix\n",
    "    data['num_vehicles'] = 1\n",
    "    data['depot'] = 0\n",
    "    return data\n",
    "    # [END data_model]\n",
    "\n",
    "\n",
    "# [START solution_printer]\n",
    "def print_solution(manager, routing, solution):\n",
    "    \"\"\"Prints solution on console.\"\"\"\n",
    "    total_miles = solution.ObjectiveValue() / 1000\n",
    "    print('Objective: {} miles'.format(total_miles))\n",
    "    index = routing.Start(0)\n",
    "    plan_output = 'Route for vehicle 0:\\n'\n",
    "    route_distance = 0\n",
    "    while not routing.IsEnd(index):\n",
    "        plan_output += ' {} ->'.format(manager.IndexToNode(index))\n",
    "        previous_index = index\n",
    "        index = solution.Value(routing.NextVar(index))\n",
    "        route_distance += routing.GetArcCostForVehicle(previous_index, index, 0)\n",
    "    plan_output += ' {}\\n'.format(manager.IndexToNode(index))\n",
    "    print(plan_output)\n",
    "    plan_output += 'Route distance: {}miles\\n'.format(route_distance)\n",
    "    return total_miles, plan_output\n",
    "    # [END solution_printer]\n",
    "\n",
    "\n",
    "def main():\n",
    "    \"\"\"Entry point of the program.\"\"\"\n",
    "    # Instantiate the data problem.\n",
    "    # [START data]\n",
    "    data = create_data_model(dist_matrix)\n",
    "    # [END data]\n",
    "\n",
    "    # Create the routing index manager.\n",
    "    # [START index_manager]\n",
    "    manager = pywrapcp.RoutingIndexManager(len(data['distance_matrix']),\n",
    "                                           data['num_vehicles'], data['depot'])\n",
    "    # [END index_manager]\n",
    "\n",
    "    # Create Routing Model.\n",
    "    # [START routing_model]\n",
    "    routing = pywrapcp.RoutingModel(manager)\n",
    "\n",
    "    # [END routing_model]\n",
    "\n",
    "    # [START transit_callback]\n",
    "    def distance_callback(from_index, to_index):\n",
    "        \"\"\"Returns the distance between the two nodes.\"\"\"\n",
    "        # Convert from routing variable Index to distance matrix NodeIndex.\n",
    "        from_node = manager.IndexToNode(from_index)\n",
    "        to_node = manager.IndexToNode(to_index)\n",
    "        return data['distance_matrix'][from_node][to_node]\n",
    "\n",
    "    transit_callback_index = routing.RegisterTransitCallback(distance_callback)\n",
    "    # [END transit_callback]\n",
    "\n",
    "    # Define cost of each arc.\n",
    "    # [START arc_cost]\n",
    "    routing.SetArcCostEvaluatorOfAllVehicles(transit_callback_index)\n",
    "    # [END arc_cost]\n",
    "\n",
    "    # Setting first solution heuristic.\n",
    "    # [START parameters]\n",
    "    search_parameters = pywrapcp.DefaultRoutingSearchParameters()\n",
    "    search_parameters.first_solution_strategy = (\n",
    "        routing_enums_pb2.FirstSolutionStrategy.PATH_CHEAPEST_ARC)\n",
    "    # [END parameters]\n",
    "\n",
    "    # Solve the problem.\n",
    "    # [START solve]\n",
    "    solution = routing.SolveWithParameters(search_parameters)\n",
    "    # [END solve]\n",
    "\n",
    "    # Print solution on console.\n",
    "    # [START print_solution]\n",
    "    if solution:\n",
    "        miles, route_list = print_solution(manager, routing, solution)\n",
    "    route_list_text_match = re.match(\".+vehicle\\s0:\\\\n\\s(.+0)\\\\n\", route_list)\n",
    "    stops_as_text = route_list_text_match.group(1)\n",
    "    list_of_stops = stops_as_text.split(\" -> \")\n",
    "    \n",
    "    return miles, list_of_stops\n",
    "    # [END print_solution]\n",
    "\n",
    "\n",
    "if __name__ == '__main__':\n",
    "    miles, list_of_stops = main()\n",
    "    \n",
    "# [END program]"
   ]
  },
  {
   "cell_type": "markdown",
   "metadata": {},
   "source": [
    "# Interpret and Plot results"
   ]
  },
  {
   "cell_type": "markdown",
   "metadata": {},
   "source": [
    "##  Function Outputs"
   ]
  },
  {
   "cell_type": "code",
   "execution_count": 46,
   "metadata": {},
   "outputs": [
    {
     "data": {
      "text/plain": [
       "17.05"
      ]
     },
     "execution_count": 46,
     "metadata": {},
     "output_type": "execute_result"
    }
   ],
   "source": [
    "miles"
   ]
  },
  {
   "cell_type": "code",
   "execution_count": 47,
   "metadata": {},
   "outputs": [
    {
     "data": {
      "text/plain": [
       "['0', '18']"
      ]
     },
     "execution_count": 47,
     "metadata": {},
     "output_type": "execute_result"
    }
   ],
   "source": [
    "list_of_stops[0:2]"
   ]
  },
  {
   "cell_type": "markdown",
   "metadata": {},
   "source": [
    "## Translate Outputs to place names"
   ]
  },
  {
   "cell_type": "code",
   "execution_count": 67,
   "metadata": {},
   "outputs": [],
   "source": [
    "nyc_attractions.reset_index(inplace=True)"
   ]
  },
  {
   "cell_type": "code",
   "execution_count": 277,
   "metadata": {},
   "outputs": [],
   "source": [
    "correct_order_of_sites = []\n",
    "for x in list_of_stops:\n",
    "    int_x = int(x)\n",
    "    if int_x >= 1:\n",
    "#         print(nyc_attractions.iloc[int_x-1]['Site'])\n",
    "        correct_order_of_sites.append(nyc_attractions.iloc[int_x-1]['Site'])"
   ]
  },
  {
   "cell_type": "code",
   "execution_count": 123,
   "metadata": {},
   "outputs": [
    {
     "data": {
      "text/html": [
       "<div>\n",
       "<style scoped>\n",
       "    .dataframe tbody tr th:only-of-type {\n",
       "        vertical-align: middle;\n",
       "    }\n",
       "\n",
       "    .dataframe tbody tr th {\n",
       "        vertical-align: top;\n",
       "    }\n",
       "\n",
       "    .dataframe thead th {\n",
       "        text-align: right;\n",
       "    }\n",
       "</style>\n",
       "<table border=\"1\" class=\"dataframe\">\n",
       "  <thead>\n",
       "    <tr style=\"text-align: right;\">\n",
       "      <th></th>\n",
       "      <th>Site</th>\n",
       "      <th>Latitude</th>\n",
       "      <th>Longitude</th>\n",
       "    </tr>\n",
       "  </thead>\n",
       "  <tbody>\n",
       "    <tr>\n",
       "      <th>0</th>\n",
       "      <td>Statue of Liberty</td>\n",
       "      <td>40.689249</td>\n",
       "      <td>-74.044479</td>\n",
       "    </tr>\n",
       "    <tr>\n",
       "      <th>1</th>\n",
       "      <td>Central Park</td>\n",
       "      <td>40.782629</td>\n",
       "      <td>-73.965290</td>\n",
       "    </tr>\n",
       "  </tbody>\n",
       "</table>\n",
       "</div>"
      ],
      "text/plain": [
       "                Site   Latitude  Longitude\n",
       "0  Statue of Liberty  40.689249 -74.044479\n",
       "1       Central Park  40.782629 -73.965290"
      ]
     },
     "execution_count": 123,
     "metadata": {},
     "output_type": "execute_result"
    }
   ],
   "source": [
    "nyc_attractions.head(2)"
   ]
  },
  {
   "cell_type": "markdown",
   "metadata": {},
   "source": [
    "## Itinerary"
   ]
  },
  {
   "cell_type": "code",
   "execution_count": 75,
   "metadata": {},
   "outputs": [
    {
     "data": {
      "application/javascript": [
       "\n",
       "        if (window._pyforest_update_imports_cell) { window._pyforest_update_imports_cell('import pandas as pd'); }\n",
       "    "
      ],
      "text/plain": [
       "<IPython.core.display.Javascript object>"
      ]
     },
     "metadata": {},
     "output_type": "display_data"
    },
    {
     "data": {
      "application/javascript": [
       "\n",
       "        if (window._pyforest_update_imports_cell) { window._pyforest_update_imports_cell('import pandas as pd'); }\n",
       "    "
      ],
      "text/plain": [
       "<IPython.core.display.Javascript object>"
      ]
     },
     "metadata": {},
     "output_type": "display_data"
    },
    {
     "data": {
      "application/javascript": [
       "\n",
       "        if (window._pyforest_update_imports_cell) { window._pyforest_update_imports_cell('import pandas as pd'); }\n",
       "    "
      ],
      "text/plain": [
       "<IPython.core.display.Javascript object>"
      ]
     },
     "metadata": {},
     "output_type": "display_data"
    },
    {
     "data": {
      "application/javascript": [
       "\n",
       "        if (window._pyforest_update_imports_cell) { window._pyforest_update_imports_cell('import pandas as pd'); }\n",
       "    "
      ],
      "text/plain": [
       "<IPython.core.display.Javascript object>"
      ]
     },
     "metadata": {},
     "output_type": "display_data"
    },
    {
     "data": {
      "application/javascript": [
       "\n",
       "        if (window._pyforest_update_imports_cell) { window._pyforest_update_imports_cell('import pandas as pd'); }\n",
       "    "
      ],
      "text/plain": [
       "<IPython.core.display.Javascript object>"
      ]
     },
     "metadata": {},
     "output_type": "display_data"
    },
    {
     "data": {
      "application/javascript": [
       "\n",
       "        if (window._pyforest_update_imports_cell) { window._pyforest_update_imports_cell('import pandas as pd'); }\n",
       "    "
      ],
      "text/plain": [
       "<IPython.core.display.Javascript object>"
      ]
     },
     "metadata": {},
     "output_type": "display_data"
    },
    {
     "data": {
      "application/javascript": [
       "\n",
       "        if (window._pyforest_update_imports_cell) { window._pyforest_update_imports_cell('import pandas as pd'); }\n",
       "    "
      ],
      "text/plain": [
       "<IPython.core.display.Javascript object>"
      ]
     },
     "metadata": {},
     "output_type": "display_data"
    },
    {
     "data": {
      "application/javascript": [
       "\n",
       "        if (window._pyforest_update_imports_cell) { window._pyforest_update_imports_cell('import pandas as pd'); }\n",
       "    "
      ],
      "text/plain": [
       "<IPython.core.display.Javascript object>"
      ]
     },
     "metadata": {},
     "output_type": "display_data"
    },
    {
     "data": {
      "application/javascript": [
       "\n",
       "        if (window._pyforest_update_imports_cell) { window._pyforest_update_imports_cell('import pandas as pd'); }\n",
       "    "
      ],
      "text/plain": [
       "<IPython.core.display.Javascript object>"
      ]
     },
     "metadata": {},
     "output_type": "display_data"
    },
    {
     "data": {
      "application/javascript": [
       "\n",
       "        if (window._pyforest_update_imports_cell) { window._pyforest_update_imports_cell('import pandas as pd'); }\n",
       "    "
      ],
      "text/plain": [
       "<IPython.core.display.Javascript object>"
      ]
     },
     "metadata": {},
     "output_type": "display_data"
    },
    {
     "data": {
      "application/javascript": [
       "\n",
       "        if (window._pyforest_update_imports_cell) { window._pyforest_update_imports_cell('import pandas as pd'); }\n",
       "    "
      ],
      "text/plain": [
       "<IPython.core.display.Javascript object>"
      ]
     },
     "metadata": {},
     "output_type": "display_data"
    },
    {
     "data": {
      "application/javascript": [
       "\n",
       "        if (window._pyforest_update_imports_cell) { window._pyforest_update_imports_cell('import pandas as pd'); }\n",
       "    "
      ],
      "text/plain": [
       "<IPython.core.display.Javascript object>"
      ]
     },
     "metadata": {},
     "output_type": "display_data"
    },
    {
     "data": {
      "application/javascript": [
       "\n",
       "        if (window._pyforest_update_imports_cell) { window._pyforest_update_imports_cell('import pandas as pd'); }\n",
       "    "
      ],
      "text/plain": [
       "<IPython.core.display.Javascript object>"
      ]
     },
     "metadata": {},
     "output_type": "display_data"
    },
    {
     "data": {
      "application/javascript": [
       "\n",
       "        if (window._pyforest_update_imports_cell) { window._pyforest_update_imports_cell('import pandas as pd'); }\n",
       "    "
      ],
      "text/plain": [
       "<IPython.core.display.Javascript object>"
      ]
     },
     "metadata": {},
     "output_type": "display_data"
    },
    {
     "data": {
      "application/javascript": [
       "\n",
       "        if (window._pyforest_update_imports_cell) { window._pyforest_update_imports_cell('import pandas as pd'); }\n",
       "    "
      ],
      "text/plain": [
       "<IPython.core.display.Javascript object>"
      ]
     },
     "metadata": {},
     "output_type": "display_data"
    },
    {
     "data": {
      "application/javascript": [
       "\n",
       "        if (window._pyforest_update_imports_cell) { window._pyforest_update_imports_cell('import pandas as pd'); }\n",
       "    "
      ],
      "text/plain": [
       "<IPython.core.display.Javascript object>"
      ]
     },
     "metadata": {},
     "output_type": "display_data"
    },
    {
     "data": {
      "application/javascript": [
       "\n",
       "        if (window._pyforest_update_imports_cell) { window._pyforest_update_imports_cell('import pandas as pd'); }\n",
       "    "
      ],
      "text/plain": [
       "<IPython.core.display.Javascript object>"
      ]
     },
     "metadata": {},
     "output_type": "display_data"
    },
    {
     "data": {
      "application/javascript": [
       "\n",
       "        if (window._pyforest_update_imports_cell) { window._pyforest_update_imports_cell('import pandas as pd'); }\n",
       "    "
      ],
      "text/plain": [
       "<IPython.core.display.Javascript object>"
      ]
     },
     "metadata": {},
     "output_type": "display_data"
    },
    {
     "data": {
      "application/javascript": [
       "\n",
       "        if (window._pyforest_update_imports_cell) { window._pyforest_update_imports_cell('import pandas as pd'); }\n",
       "    "
      ],
      "text/plain": [
       "<IPython.core.display.Javascript object>"
      ]
     },
     "metadata": {},
     "output_type": "display_data"
    },
    {
     "data": {
      "application/javascript": [
       "\n",
       "        if (window._pyforest_update_imports_cell) { window._pyforest_update_imports_cell('import pandas as pd'); }\n",
       "    "
      ],
      "text/plain": [
       "<IPython.core.display.Javascript object>"
      ]
     },
     "metadata": {},
     "output_type": "display_data"
    },
    {
     "data": {
      "application/javascript": [
       "\n",
       "        if (window._pyforest_update_imports_cell) { window._pyforest_update_imports_cell('import pandas as pd'); }\n",
       "    "
      ],
      "text/plain": [
       "<IPython.core.display.Javascript object>"
      ]
     },
     "metadata": {},
     "output_type": "display_data"
    }
   ],
   "source": [
    "itinerary_df = pd.DataFrame()\n",
    "for x in list_of_stops:\n",
    "    int_x = int(x)\n",
    "    if int_x >= 1:\n",
    "        pd.concat([itinerary_df, nyc_attractions.iloc[int_x-1]])\n",
    "#         print(nyc_attractions.iloc[int_x-1].name)"
   ]
  },
  {
   "cell_type": "code",
   "execution_count": 103,
   "metadata": {},
   "outputs": [
    {
     "data": {
      "text/plain": [
       "(20, 3)"
      ]
     },
     "execution_count": 103,
     "metadata": {},
     "output_type": "execute_result"
    }
   ],
   "source": [
    "nyc_attractions.shape"
   ]
  },
  {
   "cell_type": "code",
   "execution_count": 170,
   "metadata": {},
   "outputs": [],
   "source": [
    "itinerary_df = nyc_attractions.copy()"
   ]
  },
  {
   "cell_type": "code",
   "execution_count": 171,
   "metadata": {},
   "outputs": [
    {
     "data": {
      "text/html": [
       "<div>\n",
       "<style scoped>\n",
       "    .dataframe tbody tr th:only-of-type {\n",
       "        vertical-align: middle;\n",
       "    }\n",
       "\n",
       "    .dataframe tbody tr th {\n",
       "        vertical-align: top;\n",
       "    }\n",
       "\n",
       "    .dataframe thead th {\n",
       "        text-align: right;\n",
       "    }\n",
       "</style>\n",
       "<table border=\"1\" class=\"dataframe\">\n",
       "  <thead>\n",
       "    <tr style=\"text-align: right;\">\n",
       "      <th></th>\n",
       "      <th>Site</th>\n",
       "      <th>Latitude</th>\n",
       "      <th>Longitude</th>\n",
       "    </tr>\n",
       "  </thead>\n",
       "  <tbody>\n",
       "    <tr>\n",
       "      <th>0</th>\n",
       "      <td>Statue of Liberty</td>\n",
       "      <td>40.689249</td>\n",
       "      <td>-74.044479</td>\n",
       "    </tr>\n",
       "    <tr>\n",
       "      <th>1</th>\n",
       "      <td>Central Park</td>\n",
       "      <td>40.782629</td>\n",
       "      <td>-73.965290</td>\n",
       "    </tr>\n",
       "  </tbody>\n",
       "</table>\n",
       "</div>"
      ],
      "text/plain": [
       "                Site   Latitude  Longitude\n",
       "0  Statue of Liberty  40.689249 -74.044479\n",
       "1       Central Park  40.782629 -73.965290"
      ]
     },
     "execution_count": 171,
     "metadata": {},
     "output_type": "execute_result"
    }
   ],
   "source": [
    "itinerary_df.head(2)"
   ]
  },
  {
   "cell_type": "code",
   "execution_count": 172,
   "metadata": {},
   "outputs": [],
   "source": [
    "itinerary_df.iloc[0] = ['Plaza Hotel (start)', 40.764712, -73.974485]\n",
    "itinerary_df.iloc[-1] = ['Plaza Hotel (end)', 40.764712, -73.974485]"
   ]
  },
  {
   "cell_type": "code",
   "execution_count": 179,
   "metadata": {},
   "outputs": [],
   "source": [
    "# add new column\n",
    "itinerary_df['fastest_order'] = [correct_order_of_sites.index(x) + 1 for x in itinerary_df.Site]"
   ]
  },
  {
   "cell_type": "markdown",
   "metadata": {},
   "source": [
    "### Adding hotels to itin_df"
   ]
  },
  {
   "cell_type": "code",
   "execution_count": 180,
   "metadata": {},
   "outputs": [],
   "source": [
    "hotel_dict = {col: None for col in itinerary_df.columns}"
   ]
  },
  {
   "cell_type": "code",
   "execution_count": 181,
   "metadata": {},
   "outputs": [],
   "source": [
    "first_row = ['Plaza Hotel (start)', 40.764712, -73.974485, 0]"
   ]
  },
  {
   "cell_type": "code",
   "execution_count": 182,
   "metadata": {},
   "outputs": [],
   "source": [
    "for idx, key in enumerate(hotel_dict.keys()):\n",
    "    hotel_dict[key] = first_row[idx]"
   ]
  },
  {
   "cell_type": "code",
   "execution_count": 184,
   "metadata": {},
   "outputs": [],
   "source": [
    "itinerary_df = itinerary_df.append(hotel_dict, ignore_index=True)"
   ]
  },
  {
   "cell_type": "code",
   "execution_count": 185,
   "metadata": {},
   "outputs": [
    {
     "data": {
      "text/plain": [
       "(21, 4)"
      ]
     },
     "execution_count": 185,
     "metadata": {},
     "output_type": "execute_result"
    }
   ],
   "source": [
    "itinerary_df.shape"
   ]
  },
  {
   "cell_type": "code",
   "execution_count": 186,
   "metadata": {},
   "outputs": [],
   "source": [
    "hotel_dict2 = hotel_dict"
   ]
  },
  {
   "cell_type": "code",
   "execution_count": 187,
   "metadata": {},
   "outputs": [],
   "source": [
    "second_row = ['Plaza Hotel (end)', 40.764712, -73.974485, 21]\n",
    "for idx, key in enumerate(hotel_dict2.keys()):\n",
    "    hotel_dict2[key] = second_row[idx]"
   ]
  },
  {
   "cell_type": "code",
   "execution_count": 188,
   "metadata": {},
   "outputs": [],
   "source": [
    "itinerary_df = itinerary_df.append(hotel_dict2, ignore_index=True)"
   ]
  },
  {
   "cell_type": "code",
   "execution_count": 191,
   "metadata": {},
   "outputs": [],
   "source": [
    "itinerary_df.sort_values(by='fastest_order', inplace=True)"
   ]
  },
  {
   "cell_type": "code",
   "execution_count": 241,
   "metadata": {},
   "outputs": [],
   "source": [
    "itinerary_df.set_index('fastest_order', inplace=True)"
   ]
  },
  {
   "cell_type": "markdown",
   "metadata": {},
   "source": [
    "### Making coords into a column"
   ]
  },
  {
   "cell_type": "code",
   "execution_count": 243,
   "metadata": {},
   "outputs": [],
   "source": [
    "itinerary_df['coords'] = list(zip(itinerary_df['Latitude'], itinerary_df['Longitude']))"
   ]
  },
  {
   "cell_type": "code",
   "execution_count": 278,
   "metadata": {},
   "outputs": [
    {
     "data": {
      "text/html": [
       "<div>\n",
       "<style scoped>\n",
       "    .dataframe tbody tr th:only-of-type {\n",
       "        vertical-align: middle;\n",
       "    }\n",
       "\n",
       "    .dataframe tbody tr th {\n",
       "        vertical-align: top;\n",
       "    }\n",
       "\n",
       "    .dataframe thead th {\n",
       "        text-align: right;\n",
       "    }\n",
       "</style>\n",
       "<table border=\"1\" class=\"dataframe\">\n",
       "  <thead>\n",
       "    <tr style=\"text-align: right;\">\n",
       "      <th></th>\n",
       "      <th>Site</th>\n",
       "      <th>Latitude</th>\n",
       "      <th>Longitude</th>\n",
       "      <th>coords</th>\n",
       "    </tr>\n",
       "    <tr>\n",
       "      <th>fastest_order</th>\n",
       "      <th></th>\n",
       "      <th></th>\n",
       "      <th></th>\n",
       "      <th></th>\n",
       "    </tr>\n",
       "  </thead>\n",
       "  <tbody>\n",
       "    <tr>\n",
       "      <th>0</th>\n",
       "      <td>Plaza Hotel (start)</td>\n",
       "      <td>40.764712</td>\n",
       "      <td>-73.974485</td>\n",
       "      <td>(40.764712, -73.974485)</td>\n",
       "    </tr>\n",
       "    <tr>\n",
       "      <th>1</th>\n",
       "      <td>St. Patrick's Cathedral</td>\n",
       "      <td>40.758571</td>\n",
       "      <td>-73.976195</td>\n",
       "      <td>(40.758571, -73.976195)</td>\n",
       "    </tr>\n",
       "    <tr>\n",
       "      <th>2</th>\n",
       "      <td>Grand Central Terminal</td>\n",
       "      <td>40.752708</td>\n",
       "      <td>-73.977247</td>\n",
       "      <td>(40.752708, -73.977247)</td>\n",
       "    </tr>\n",
       "    <tr>\n",
       "      <th>3</th>\n",
       "      <td>New York Public Library</td>\n",
       "      <td>40.752895</td>\n",
       "      <td>-73.981757</td>\n",
       "      <td>(40.752895, -73.981757)</td>\n",
       "    </tr>\n",
       "    <tr>\n",
       "      <th>4</th>\n",
       "      <td>Bryant Park</td>\n",
       "      <td>40.753751</td>\n",
       "      <td>-73.983662</td>\n",
       "      <td>(40.753751, -73.983662)</td>\n",
       "    </tr>\n",
       "  </tbody>\n",
       "</table>\n",
       "</div>"
      ],
      "text/plain": [
       "                                  Site   Latitude  Longitude  \\\n",
       "fastest_order                                                  \n",
       "0                  Plaza Hotel (start)  40.764712 -73.974485   \n",
       "1              St. Patrick's Cathedral  40.758571 -73.976195   \n",
       "2               Grand Central Terminal  40.752708 -73.977247   \n",
       "3              New York Public Library  40.752895 -73.981757   \n",
       "4                          Bryant Park  40.753751 -73.983662   \n",
       "\n",
       "                                coords  \n",
       "fastest_order                           \n",
       "0              (40.764712, -73.974485)  \n",
       "1              (40.758571, -73.976195)  \n",
       "2              (40.752708, -73.977247)  \n",
       "3              (40.752895, -73.981757)  \n",
       "4              (40.753751, -73.983662)  "
      ]
     },
     "execution_count": 278,
     "metadata": {},
     "output_type": "execute_result"
    }
   ],
   "source": [
    "itinerary_df.head()"
   ]
  },
  {
   "cell_type": "markdown",
   "metadata": {},
   "source": [
    "# Mapping Results"
   ]
  },
  {
   "cell_type": "markdown",
   "metadata": {},
   "source": [
    "## Creating Base Map "
   ]
  },
  {
   "cell_type": "code",
   "execution_count": 244,
   "metadata": {},
   "outputs": [],
   "source": [
    "# getting mid lat and long \n",
    "mean_lat = itinerary_df['Latitude'].mean()\n",
    "mean_lng = itinerary_df['Longitude'].mean()"
   ]
  },
  {
   "cell_type": "code",
   "execution_count": 271,
   "metadata": {},
   "outputs": [],
   "source": [
    "base_map = folium.Map(location=[mean_lat, mean_lng], tiles=\"CartoDB positron\", zoom_start=12)"
   ]
  },
  {
   "cell_type": "markdown",
   "metadata": {},
   "source": [
    "## Adding Locations"
   ]
  },
  {
   "cell_type": "code",
   "execution_count": 273,
   "metadata": {},
   "outputs": [
    {
     "name": "stderr",
     "output_type": "stream",
     "text": [
      "/Users/gregfeliu/opt/anaconda3/envs/learn-env/lib/python3.6/site-packages/ipykernel_launcher.py:4: UserWarning: color argument of Icon should be one of: {'lightred', 'purple', 'lightgrayblack', 'beige', 'darkblue', 'lightblue', 'red', 'pink', 'lightgreen', 'cadetblue', 'darkgreen', 'white', 'darkpurple', 'orange', 'darkred', 'green', 'blue', 'gray'}.\n",
      "  after removing the cwd from sys.path.\n"
     ]
    },
    {
     "data": {
      "text/plain": [
       "<folium.map.Marker at 0x7fddd37067f0>"
      ]
     },
     "execution_count": 273,
     "metadata": {},
     "output_type": "execute_result"
    }
   ],
   "source": [
    "for num in range(1, len(itinerary_df)-1):\n",
    "    folium.Marker(itinerary_df['coords'][num], popup=itinerary_df['Site'][num]).add_to(base_map)\n",
    "# separate one for hotel\n",
    "folium.Marker(itinerary_df['coords'][0], popup=itinerary_df['Site'][0], icon=folium.Icon(color='black')).add_to(base_map)"
   ]
  },
  {
   "cell_type": "code",
   "execution_count": 274,
   "metadata": {},
   "outputs": [
    {
     "data": {
      "text/html": [
       "<div style=\"width:100%;\"><div style=\"position:relative;width:100%;height:0;padding-bottom:60%;\"><iframe src=\"data:text/html;charset=utf-8;base64,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\" style=\"position:absolute;width:100%;height:100%;left:0;top:0;border:none !important;\" allowfullscreen webkitallowfullscreen mozallowfullscreen></iframe></div></div>"
      ],
      "text/plain": [
       "<folium.folium.Map at 0x7fddd36de6a0>"
      ]
     },
     "execution_count": 274,
     "metadata": {},
     "output_type": "execute_result"
    }
   ],
   "source": [
    "base_map"
   ]
  },
  {
   "cell_type": "markdown",
   "metadata": {},
   "source": [
    "## Adding Lines"
   ]
  },
  {
   "cell_type": "code",
   "execution_count": 275,
   "metadata": {},
   "outputs": [
    {
     "data": {
      "text/plain": [
       "<folium.vector_layers.PolyLine at 0x7fddd371bef0>"
      ]
     },
     "execution_count": 275,
     "metadata": {},
     "output_type": "execute_result"
    }
   ],
   "source": [
    "folium.PolyLine(itinerary_df['coords'], color=\"red\", weight=7.5, opacity=1).add_to(base_map)"
   ]
  },
  {
   "cell_type": "code",
   "execution_count": 276,
   "metadata": {
    "scrolled": true
   },
   "outputs": [
    {
     "data": {
      "text/html": [
       "<div style=\"width:100%;\"><div style=\"position:relative;width:100%;height:0;padding-bottom:60%;\"><iframe src=\"data:text/html;charset=utf-8;base64,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\" style=\"position:absolute;width:100%;height:100%;left:0;top:0;border:none !important;\" allowfullscreen webkitallowfullscreen mozallowfullscreen></iframe></div></div>"
      ],
      "text/plain": [
       "<folium.folium.Map at 0x7fddd36de6a0>"
      ]
     },
     "execution_count": 276,
     "metadata": {},
     "output_type": "execute_result"
    }
   ],
   "source": [
    "base_map"
   ]
  },
  {
   "cell_type": "code",
   "execution_count": null,
   "metadata": {},
   "outputs": [],
   "source": [
    "# saving map \n",
    "folium.save"
   ]
  },
  {
   "cell_type": "markdown",
   "metadata": {},
   "source": [
    "# Version With Capacity Constraints\n",
    "original py file: https://github.com/google/or-tools/blob/stable/ortools/constraint_solver/samples/vrp_capacity.py"
   ]
  },
  {
   "cell_type": "code",
   "execution_count": null,
   "metadata": {},
   "outputs": [],
   "source": []
  },
  {
   "cell_type": "code",
   "execution_count": null,
   "metadata": {},
   "outputs": [],
   "source": []
  },
  {
   "cell_type": "code",
   "execution_count": null,
   "metadata": {},
   "outputs": [],
   "source": []
  }
 ],
 "metadata": {
  "kernelspec": {
   "display_name": "Python [conda env:learn-env] *",
   "language": "python",
   "name": "conda-env-learn-env-py"
  },
  "language_info": {
   "codemirror_mode": {
    "name": "ipython",
    "version": 3
   },
   "file_extension": ".py",
   "mimetype": "text/x-python",
   "name": "python",
   "nbconvert_exporter": "python",
   "pygments_lexer": "ipython3",
   "version": "3.6.9"
  },
  "toc": {
   "base_numbering": 1,
   "nav_menu": {},
   "number_sections": true,
   "sideBar": true,
   "skip_h1_title": false,
   "title_cell": "Table of Contents",
   "title_sidebar": "Contents",
   "toc_cell": false,
   "toc_position": {
    "height": "calc(100% - 180px)",
    "left": "10px",
    "top": "150px",
    "width": "288px"
   },
   "toc_section_display": true,
   "toc_window_display": true
  },
  "varInspector": {
   "cols": {
    "lenName": 16,
    "lenType": 16,
    "lenVar": 40
   },
   "kernels_config": {
    "python": {
     "delete_cmd_postfix": "",
     "delete_cmd_prefix": "del ",
     "library": "var_list.py",
     "varRefreshCmd": "print(var_dic_list())"
    },
    "r": {
     "delete_cmd_postfix": ") ",
     "delete_cmd_prefix": "rm(",
     "library": "var_list.r",
     "varRefreshCmd": "cat(var_dic_list()) "
    }
   },
   "types_to_exclude": [
    "module",
    "function",
    "builtin_function_or_method",
    "instance",
    "_Feature"
   ],
   "window_display": false
  }
 },
 "nbformat": 4,
 "nbformat_minor": 2
}
