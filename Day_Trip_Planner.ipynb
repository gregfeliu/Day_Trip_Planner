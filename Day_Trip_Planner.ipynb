{
 "cells": [
  {
   "cell_type": "markdown",
   "metadata": {},
   "source": [
    "import pandas as pd\n",
    "# ^^^ pyforest auto-imports - don't write above this line\n",
    "# Imports"
   ]
  },
  {
   "cell_type": "code",
   "execution_count": 337,
   "metadata": {},
   "outputs": [],
   "source": [
    "from haversine import haversine, Unit\n",
    "import copy"
   ]
  },
  {
   "cell_type": "markdown",
   "metadata": {},
   "source": [
    "# Making Top NYC Attractions Data\n",
    "https://www.planetware.com/tourist-attractions-/new-york-city-us-ny-nyc.htm"
   ]
  },
  {
   "cell_type": "code",
   "execution_count": 366,
   "metadata": {},
   "outputs": [],
   "source": [
    "# using planteware's list for top attractions \n",
    "locations = [\"Statue of Liberty\", \" Central Park\", \"Rockefeller Center & Top of the Rock Observation Deck\", \n",
    "            \"Metropolitan Museum of Art\", \"Broadway and the Theater District\", \"Empire State Building\",\n",
    "            \"9/11 Memorial and Museum\", \"High Line\", \"Times Square\", \"Brooklyn Bridge\",\n",
    "            \"Fifth Avenue\", \"Grand Central Terminal\", \"One World Observatory\", \"The Frick Collection\",\n",
    "            \"New York Public Library\", \"Wall Street\", \"Radio City Music Hall\", \"St. Patrick's Cathedral\",\n",
    "            \"Carnegie Hall\", \"Bryant Park\"]\n",
    "# using google's coordinates for each location \n",
    "coords = [[40.689249, -74.044479], [40.782629, -73.965290], [40.759137, -73.979495], \n",
    "         [40.779437, -73.963244], [40.759003, -73.984487], [40.748481, -73.985654],\n",
    "         [40.711532, -74.013201], [40.747797, -74.004872], [40.758070, -73.985407], \n",
    "         [40.706086, -73.996864], [40.774431, -73.965618], [40.752708, -73.977247], [40.713353, -74.013325],\n",
    "         [40.771217, -73.967345], [40.752895, -73.981757], [40.706044, -74.008836], [40.760106, -73.979934],\n",
    "         [40.758571, -73.976195], [40.765101, -73.979941], [40.753751, -73.983662]]"
   ]
  },
  {
   "cell_type": "code",
   "execution_count": 4,
   "metadata": {},
   "outputs": [
    {
     "data": {
      "application/javascript": [
       "\n",
       "        if (window._pyforest_update_imports_cell) { window._pyforest_update_imports_cell('import pandas as pd'); }\n",
       "    "
      ],
      "text/plain": [
       "<IPython.core.display.Javascript object>"
      ]
     },
     "metadata": {},
     "output_type": "display_data"
    }
   ],
   "source": [
    "nyc_attractions = pd.DataFrame(index = locations, data=coords, columns = ['Latitude', \"Longitude\"])"
   ]
  },
  {
   "cell_type": "code",
   "execution_count": 6,
   "metadata": {},
   "outputs": [
    {
     "data": {
      "text/plain": [
       "(20, 2)"
      ]
     },
     "execution_count": 6,
     "metadata": {},
     "output_type": "execute_result"
    }
   ],
   "source": [
    "nyc_attractions.shape"
   ]
  },
  {
   "cell_type": "code",
   "execution_count": 7,
   "metadata": {},
   "outputs": [
    {
     "data": {
      "text/html": [
       "<div>\n",
       "<style scoped>\n",
       "    .dataframe tbody tr th:only-of-type {\n",
       "        vertical-align: middle;\n",
       "    }\n",
       "\n",
       "    .dataframe tbody tr th {\n",
       "        vertical-align: top;\n",
       "    }\n",
       "\n",
       "    .dataframe thead th {\n",
       "        text-align: right;\n",
       "    }\n",
       "</style>\n",
       "<table border=\"1\" class=\"dataframe\">\n",
       "  <thead>\n",
       "    <tr style=\"text-align: right;\">\n",
       "      <th></th>\n",
       "      <th>Latitude</th>\n",
       "      <th>Longitude</th>\n",
       "    </tr>\n",
       "  </thead>\n",
       "  <tbody>\n",
       "    <tr>\n",
       "      <th>Statue of Liberty</th>\n",
       "      <td>40.689249</td>\n",
       "      <td>-74.044479</td>\n",
       "    </tr>\n",
       "    <tr>\n",
       "      <th>Central Park</th>\n",
       "      <td>40.782629</td>\n",
       "      <td>-73.965290</td>\n",
       "    </tr>\n",
       "    <tr>\n",
       "      <th>Rockefeller Center &amp; Top of the Rock Observation Deck</th>\n",
       "      <td>40.759137</td>\n",
       "      <td>-73.979495</td>\n",
       "    </tr>\n",
       "    <tr>\n",
       "      <th>Metropolitan Museum of Art</th>\n",
       "      <td>40.779437</td>\n",
       "      <td>-73.963244</td>\n",
       "    </tr>\n",
       "    <tr>\n",
       "      <th>Broadway and the Theater District</th>\n",
       "      <td>40.759003</td>\n",
       "      <td>-73.984487</td>\n",
       "    </tr>\n",
       "  </tbody>\n",
       "</table>\n",
       "</div>"
      ],
      "text/plain": [
       "                                                     Latitude  Longitude\n",
       "Statue of Liberty                                   40.689249 -74.044479\n",
       " Central Park                                       40.782629 -73.965290\n",
       "Rockefeller Center & Top of the Rock Observatio...  40.759137 -73.979495\n",
       "Metropolitan Museum of Art                          40.779437 -73.963244\n",
       "Broadway and the Theater District                   40.759003 -73.984487"
      ]
     },
     "execution_count": 7,
     "metadata": {},
     "output_type": "execute_result"
    }
   ],
   "source": [
    "nyc_attractions.head()"
   ]
  },
  {
   "cell_type": "markdown",
   "metadata": {},
   "source": [
    "# Making Grid of Distances"
   ]
  },
  {
   "cell_type": "code",
   "execution_count": 17,
   "metadata": {},
   "outputs": [],
   "source": [
    "liberty = [nyc_attractions.iloc[0][0], nyc_attractions.iloc[0][1]]"
   ]
  },
  {
   "cell_type": "code",
   "execution_count": 25,
   "metadata": {},
   "outputs": [],
   "source": [
    "liberty2 = coords[0]"
   ]
  },
  {
   "cell_type": "code",
   "execution_count": 18,
   "metadata": {},
   "outputs": [],
   "source": [
    "central = [nyc_attractions.iloc[1][0], nyc_attractions.iloc[1][1]]"
   ]
  },
  {
   "cell_type": "code",
   "execution_count": 24,
   "metadata": {},
   "outputs": [
    {
     "data": {
      "text/plain": [
       "7.669133429189523"
      ]
     },
     "execution_count": 24,
     "metadata": {},
     "output_type": "execute_result"
    }
   ],
   "source": [
    "haversine(liberty, central, unit=Unit.MILES)"
   ]
  },
  {
   "cell_type": "code",
   "execution_count": 26,
   "metadata": {},
   "outputs": [
    {
     "data": {
      "text/plain": [
       "True"
      ]
     },
     "execution_count": 26,
     "metadata": {},
     "output_type": "execute_result"
    }
   ],
   "source": [
    "liberty == liberty2"
   ]
  },
  {
   "cell_type": "code",
   "execution_count": 346,
   "metadata": {},
   "outputs": [],
   "source": [
    "coords.insert(0, [40.764712, -73.974485])"
   ]
  },
  {
   "cell_type": "code",
   "execution_count": 369,
   "metadata": {},
   "outputs": [],
   "source": [
    "def get_distance(coords):\n",
    "    # must return a matrix of integers, will need scaling \n",
    "    distance_matrix = []\n",
    "    # adding depot (the plaza hotel) to first place \n",
    "    plaza_hotel = [40.764712, -73.974485]\n",
    "    if plaza_hotel not in coords:\n",
    "        coords.insert(0, plaza_hotel)\n",
    "    for i in range(len(coords)):\n",
    "        one_row_list = []\n",
    "        for num in range(i, len(coords)):\n",
    "            distance = haversine(coords[i], coords[num], unit=Unit.MILES)\n",
    "            rounded_upscaled_distance = round((distance * 1000)) # scaled to 1000th of a mile\n",
    "            one_row_list.append(rounded_upscaled_distance)\n",
    "        distance_matrix.append(one_row_list) # top right triangle of matrix \n",
    "     # making each sublist have 20 items\n",
    "    for i in range(len(distance_matrix)):\n",
    "        for x in range(i, len(distance_matrix)):\n",
    "            if distance_matrix[i][x] != 0:\n",
    "                distance_matrix[x].insert(i, distance_matrix[i][x])\n",
    "    return distance_matrix"
   ]
  },
  {
   "cell_type": "code",
   "execution_count": 370,
   "metadata": {},
   "outputs": [],
   "source": [
    "dist_matrix = get_distance(coords)"
   ]
  },
  {
   "cell_type": "code",
   "execution_count": 364,
   "metadata": {},
   "outputs": [],
   "source": [
    "# test_dist_matrix2 = copy.deepcopy(test_dist_matrix)"
   ]
  },
  {
   "cell_type": "code",
   "execution_count": 365,
   "metadata": {},
   "outputs": [],
   "source": [
    "# all of these should be shifted to the right, and the number with opposite dimensions should fill in spaces on left\n",
    "# i.e.: the zeros should be in a diagonal line from top left to bottom right \n",
    "# for i in dist_matrix:\n",
    "#     print(i)"
   ]
  },
  {
   "cell_type": "code",
   "execution_count": 371,
   "metadata": {},
   "outputs": [
    {
     "data": {
      "text/plain": [
       "21"
      ]
     },
     "execution_count": 371,
     "metadata": {},
     "output_type": "execute_result"
    }
   ],
   "source": [
    "len(dist_matrix)"
   ]
  },
  {
   "cell_type": "markdown",
   "metadata": {
    "heading_collapsed": true
   },
   "source": [
    "### Make everything to right of zero leftmost element in cascading list"
   ]
  },
  {
   "cell_type": "code",
   "execution_count": 340,
   "metadata": {
    "hidden": true
   },
   "outputs": [],
   "source": [
    "for i in range(len(test_dist_matrix2)):\n",
    "    for x in range(i, len(test_dist_matrix2)):\n",
    "        if test_dist_matrix2[i][x] != 0:\n",
    "            test_dist_matrix2[x].insert(i, test_dist_matrix2[i][x])"
   ]
  },
  {
   "cell_type": "code",
   "execution_count": 342,
   "metadata": {
    "hidden": true
   },
   "outputs": [
    {
     "name": "stdout",
     "output_type": "stream",
     "text": [
      "[0, 7669, 5907, 7544, 5753, 5122, 2248, 4546, 5673, 2752, 7189, 5623, 2332, 6956, 5489, 2198, 5949, 5977, 6236, 5478]\n",
      "[7669, 0, 1785, 245, 1917, 2589, 5515, 3175, 1997, 5541, 567, 2160, 5407, 796, 2228, 5762, 1735, 1757, 1433, 2215]\n",
      "[5907, 1785, 0, 1640, 261, 804, 3733, 1542, 318, 3777, 1282, 460, 3625, 1049, 447, 3977, 71, 177, 413, 431]\n",
      "[7544, 245, 1640, 0, 1797, 2439, 5371, 3086, 1877, 5365, 368, 1987, 5265, 607, 2074, 5605, 1596, 1593, 1321, 2072]\n",
      "[5753, 1917, 261, 1797, 0, 730, 3608, 1318, 80, 3713, 1453, 577, 3497, 1232, 446, 3875, 250, 435, 484, 365]\n",
      "[5122, 2589, 804, 2439, 730, 0, 2932, 1007, 663, 2987, 2077, 528, 2827, 1840, 367, 3173, 857, 855, 1187, 379]\n",
      "[2248, 5515, 3733, 5371, 3608, 2932, 0, 2543, 3529, 935, 5009, 3411, 126, 4772, 3298, 443, 3781, 3784, 4090, 3302]\n",
      "[4546, 3175, 1542, 3086, 1318, 1007, 2543, 0, 1242, 2912, 2758, 1485, 2421, 2545, 1260, 2892, 1558, 1675, 1770, 1184]\n",
      "[5673, 1997, 318, 1877, 80, 663, 3529, 1242, 0, 3641, 1533, 565, 3418, 1311, 405, 3798, 319, 483, 564, 312]\n",
      "[2752, 5541, 3777, 5365, 3713, 2987, 935, 2912, 3641, 0, 4997, 3381, 998, 4758, 3330, 627, 3836, 3784, 4173, 3365]\n",
      "[7189, 567, 1282, 368, 1453, 2077, 5009, 2758, 1533, 4997, 0, 1620, 4904, 240, 1711, 5239, 1241, 1228, 989, 1713]\n",
      "[5623, 2160, 460, 1987, 577, 528, 3411, 1485, 565, 3381, 1620, 0, 3311, 1380, 236, 3624, 530, 409, 868, 343]\n",
      "[2332, 5407, 3625, 5265, 3497, 2827, 126, 2421, 3418, 998, 4904, 3311, 0, 4667, 3193, 557, 3673, 3680, 3980, 3194]\n",
      "[6956, 796, 1049, 607, 1232, 1840, 4772, 2545, 1311, 4758, 240, 1380, 4667, 0, 1474, 5000, 1012, 989, 783, 1478]\n",
      "[5489, 2228, 447, 2074, 446, 367, 3298, 1260, 405, 3330, 1711, 236, 3193, 1474, 0, 3534, 507, 488, 849, 116]\n",
      "[2198, 5762, 3977, 5605, 3875, 3173, 443, 2892, 3798, 627, 5239, 3624, 557, 5000, 3534, 0, 4030, 4012, 4352, 3550]\n",
      "[5949, 1735, 71, 1596, 250, 857, 3781, 1558, 319, 3836, 1241, 530, 3673, 1012, 507, 4030, 0, 223, 345, 480]\n",
      "[5977, 1757, 177, 1593, 435, 855, 3784, 1675, 483, 3784, 1228, 409, 3680, 989, 488, 4012, 223, 0, 492, 513]\n",
      "[6236, 1433, 413, 1321, 484, 1187, 4090, 1770, 564, 4173, 989, 868, 3980, 783, 849, 4352, 345, 492, 0, 808]\n",
      "[5478, 2215, 431, 2072, 365, 379, 3302, 1184, 312, 3365, 1713, 343, 3194, 1478, 116, 3550, 480, 513, 808, 0]\n"
     ]
    }
   ],
   "source": [
    "for row in test_dist_matrix2:\n",
    "    print(row)"
   ]
  },
  {
   "cell_type": "markdown",
   "metadata": {},
   "source": [
    "# Insert into OR-tools (TSP)"
   ]
  },
  {
   "cell_type": "code",
   "execution_count": 372,
   "metadata": {},
   "outputs": [
    {
     "name": "stdout",
     "output_type": "stream",
     "text": [
      "Objective: 17050 miles\n",
      "Route for vehicle 0:\n",
      " 0 -> 18 -> 12 -> 15 -> 20 -> 6 -> 10 -> 16 -> 1 -> 7 -> 13 -> 8 -> 9 -> 5 -> 3 -> 17 -> 19 -> 2 -> 4 -> 11 -> 14 -> 0\n",
      "\n"
     ]
    }
   ],
   "source": [
    "# [START import]\n",
    "from __future__ import print_function\n",
    "from ortools.constraint_solver import routing_enums_pb2\n",
    "from ortools.constraint_solver import pywrapcp\n",
    "\n",
    "# [END import]\n",
    "\n",
    "\n",
    "# [START data_model]\n",
    "def create_data_model(input_distance_matrix):\n",
    "    \"\"\"Stores the data for the problem.\"\"\"\n",
    "    data = {}\n",
    "#     data['distance_matrix'] = [\n",
    "#         [0, 2451, 713, 1018, 1631, 1374, 2408, 213, 2571, 875, 1420, 2145, 1972],\n",
    "#         [2451, 0, 1745, 1524, 831, 1240, 959, 2596, 403, 1589, 1374, 357, 579],\n",
    "#         [713, 1745, 0, 355, 920, 803, 1737, 851, 1858, 262, 940, 1453, 1260],\n",
    "#         [1018, 1524, 355, 0, 700, 862, 1395, 1123, 1584, 466, 1056, 1280, 987],\n",
    "#         [1631, 831, 920, 700, 0, 663, 1021, 1769, 949, 796, 879, 586, 371],\n",
    "#         [1374, 1240, 803, 862, 663, 0, 1681, 1551, 1765, 547, 225, 887, 999],\n",
    "#         [2408, 959, 1737, 1395, 1021, 1681, 0, 2493, 678, 1724, 1891, 1114, 701],\n",
    "#         [213, 2596, 851, 1123, 1769, 1551, 2493, 0, 2699, 1038, 1605, 2300, 2099],\n",
    "#         [2571, 403, 1858, 1584, 949, 1765, 678, 2699, 0, 1744, 1645, 653, 600],\n",
    "#         [875, 1589, 262, 466, 796, 547, 1724, 1038, 1744, 0, 679, 1272, 1162],\n",
    "#         [1420, 1374, 940, 1056, 879, 225, 1891, 1605, 1645, 679, 0, 1017, 1200],\n",
    "#         [2145, 357, 1453, 1280, 586, 887, 1114, 2300, 653, 1272, 1017, 0, 504],\n",
    "#         [1972, 579, 1260, 987, 371, 999, 701, 2099, 600, 1162, 1200, 504, 0],\n",
    "#     ]  # yapf: disable\n",
    "    data['distance_matrix'] = input_distance_matrix\n",
    "    data['num_vehicles'] = 1\n",
    "    data['depot'] = 0\n",
    "    return data\n",
    "    # [END data_model]\n",
    "\n",
    "\n",
    "# [START solution_printer]\n",
    "def print_solution(manager, routing, solution):\n",
    "    \"\"\"Prints solution on console.\"\"\"\n",
    "    print('Objective: {} miles'.format(solution.ObjectiveValue()))\n",
    "    index = routing.Start(0)\n",
    "    plan_output = 'Route for vehicle 0:\\n'\n",
    "    route_distance = 0\n",
    "    while not routing.IsEnd(index):\n",
    "        plan_output += ' {} ->'.format(manager.IndexToNode(index))\n",
    "        previous_index = index\n",
    "        index = solution.Value(routing.NextVar(index))\n",
    "        route_distance += routing.GetArcCostForVehicle(previous_index, index, 0)\n",
    "    plan_output += ' {}\\n'.format(manager.IndexToNode(index))\n",
    "    print(plan_output)\n",
    "    plan_output += 'Route distance: {}miles\\n'.format(route_distance)\n",
    "    # [END solution_printer]\n",
    "\n",
    "\n",
    "def main():\n",
    "    \"\"\"Entry point of the program.\"\"\"\n",
    "    # Instantiate the data problem.\n",
    "    # [START data]\n",
    "    data = create_data_model(dist_matrix)\n",
    "    # [END data]\n",
    "\n",
    "    # Create the routing index manager.\n",
    "    # [START index_manager]\n",
    "    manager = pywrapcp.RoutingIndexManager(len(data['distance_matrix']),\n",
    "                                           data['num_vehicles'], data['depot'])\n",
    "    # [END index_manager]\n",
    "\n",
    "    # Create Routing Model.\n",
    "    # [START routing_model]\n",
    "    routing = pywrapcp.RoutingModel(manager)\n",
    "\n",
    "    # [END routing_model]\n",
    "\n",
    "    # [START transit_callback]\n",
    "    def distance_callback(from_index, to_index):\n",
    "        \"\"\"Returns the distance between the two nodes.\"\"\"\n",
    "        # Convert from routing variable Index to distance matrix NodeIndex.\n",
    "        from_node = manager.IndexToNode(from_index)\n",
    "        to_node = manager.IndexToNode(to_index)\n",
    "        return data['distance_matrix'][from_node][to_node]\n",
    "\n",
    "    transit_callback_index = routing.RegisterTransitCallback(distance_callback)\n",
    "    # [END transit_callback]\n",
    "\n",
    "    # Define cost of each arc.\n",
    "    # [START arc_cost]\n",
    "    routing.SetArcCostEvaluatorOfAllVehicles(transit_callback_index)\n",
    "    # [END arc_cost]\n",
    "\n",
    "    # Setting first solution heuristic.\n",
    "    # [START parameters]\n",
    "    search_parameters = pywrapcp.DefaultRoutingSearchParameters()\n",
    "    search_parameters.first_solution_strategy = (\n",
    "        routing_enums_pb2.FirstSolutionStrategy.PATH_CHEAPEST_ARC)\n",
    "    # [END parameters]\n",
    "\n",
    "    # Solve the problem.\n",
    "    # [START solve]\n",
    "    solution = routing.SolveWithParameters(search_parameters)\n",
    "    # [END solve]\n",
    "\n",
    "    # Print solution on console.\n",
    "    # [START print_solution]\n",
    "    if solution:\n",
    "        print_solution(manager, routing, solution)\n",
    "    # [END print_solution]\n",
    "\n",
    "\n",
    "if __name__ == '__main__':\n",
    "    main()\n",
    "# [END program]"
   ]
  },
  {
   "cell_type": "markdown",
   "metadata": {},
   "source": [
    "# Interpret and Plot results"
   ]
  },
  {
   "cell_type": "code",
   "execution_count": 373,
   "metadata": {},
   "outputs": [
    {
     "ename": "NameError",
     "evalue": "name 'solution' is not defined",
     "output_type": "error",
     "traceback": [
      "\u001b[0;31m---------------------------------------------------------------------------\u001b[0m",
      "\u001b[0;31mNameError\u001b[0m                                 Traceback (most recent call last)",
      "\u001b[0;32m<ipython-input-373-bbd0511184f1>\u001b[0m in \u001b[0;36m<module>\u001b[0;34m\u001b[0m\n\u001b[0;32m----> 1\u001b[0;31m \u001b[0msolution\u001b[0m\u001b[0;34m\u001b[0m\u001b[0;34m\u001b[0m\u001b[0m\n\u001b[0m",
      "\u001b[0;31mNameError\u001b[0m: name 'solution' is not defined"
     ]
    }
   ],
   "source": [
    "solution"
   ]
  },
  {
   "cell_type": "code",
   "execution_count": 374,
   "metadata": {},
   "outputs": [
    {
     "ename": "NameError",
     "evalue": "name 'data' is not defined",
     "output_type": "error",
     "traceback": [
      "\u001b[0;31m---------------------------------------------------------------------------\u001b[0m",
      "\u001b[0;31mNameError\u001b[0m                                 Traceback (most recent call last)",
      "\u001b[0;32m<ipython-input-374-9f9ae8f8b214>\u001b[0m in \u001b[0;36m<module>\u001b[0;34m\u001b[0m\n\u001b[0;32m----> 1\u001b[0;31m \u001b[0mdata\u001b[0m\u001b[0;34m[\u001b[0m\u001b[0;34m'distance_matrix'\u001b[0m\u001b[0;34m]\u001b[0m\u001b[0;34m[\u001b[0m\u001b[0mfrom_node\u001b[0m\u001b[0;34m]\u001b[0m\u001b[0;34m[\u001b[0m\u001b[0mto_node\u001b[0m\u001b[0;34m]\u001b[0m\u001b[0;34m\u001b[0m\u001b[0;34m\u001b[0m\u001b[0m\n\u001b[0m",
      "\u001b[0;31mNameError\u001b[0m: name 'data' is not defined"
     ]
    }
   ],
   "source": [
    "data['distance_matrix'][from_node][to_node]"
   ]
  },
  {
   "cell_type": "code",
   "execution_count": null,
   "metadata": {},
   "outputs": [],
   "source": []
  }
 ],
 "metadata": {
  "kernelspec": {
   "display_name": "Python [conda env:learn-env] *",
   "language": "python",
   "name": "conda-env-learn-env-py"
  },
  "language_info": {
   "codemirror_mode": {
    "name": "ipython",
    "version": 3
   },
   "file_extension": ".py",
   "mimetype": "text/x-python",
   "name": "python",
   "nbconvert_exporter": "python",
   "pygments_lexer": "ipython3",
   "version": "3.6.9"
  },
  "toc": {
   "base_numbering": 1,
   "nav_menu": {},
   "number_sections": true,
   "sideBar": true,
   "skip_h1_title": false,
   "title_cell": "Table of Contents",
   "title_sidebar": "Contents",
   "toc_cell": false,
   "toc_position": {},
   "toc_section_display": true,
   "toc_window_display": true
  },
  "varInspector": {
   "cols": {
    "lenName": 16,
    "lenType": 16,
    "lenVar": 40
   },
   "kernels_config": {
    "python": {
     "delete_cmd_postfix": "",
     "delete_cmd_prefix": "del ",
     "library": "var_list.py",
     "varRefreshCmd": "print(var_dic_list())"
    },
    "r": {
     "delete_cmd_postfix": ") ",
     "delete_cmd_prefix": "rm(",
     "library": "var_list.r",
     "varRefreshCmd": "cat(var_dic_list()) "
    }
   },
   "types_to_exclude": [
    "module",
    "function",
    "builtin_function_or_method",
    "instance",
    "_Feature"
   ],
   "window_display": false
  }
 },
 "nbformat": 4,
 "nbformat_minor": 2
}
